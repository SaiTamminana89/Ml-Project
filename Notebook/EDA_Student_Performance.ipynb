{
  "cells": [
    {
      "cell_type": "markdown",
      "metadata": {
        "id": "JEjD3ws5dTyU"
      },
      "source": [
        "## Student Performance Indicator"
      ]
    },
    {
      "cell_type": "markdown",
      "metadata": {
        "id": "qf4nEQATdPDu"
      },
      "source": [
        "\n",
        "Life cycle of Machine learning Project:\n",
        "1) Understanding the Problem Statement\n",
        "2) Data Collection\n",
        "3) Data Checks to perform\n",
        "4) Exploratory data analysis\n",
        "5) Data Pre-Processing\n",
        "6) Model Training\n",
        "7) Choose best model"
      ]
    },
    {
      "cell_type": "markdown",
      "metadata": {
        "id": "c9amn5tVedVR"
      },
      "source": [
        "1) Problem statement\n",
        "This project understands how the student's performance (test scores) is affected by other variables such as Gender, Ethnicity, Parental level of education, Lunch and Test preparation course."
      ]
    },
    {
      "cell_type": "markdown",
      "metadata": {
        "id": "CT4DBoIMejci"
      },
      "source": [
        "2) Data Collection\n",
        "Dataset Source - https://www.kaggle.com/datasets/spscientist/students-performance-in-exams?datasetId=74977\n",
        "The data consists of 8 column and 1000 rows."
      ]
    },
    {
      "cell_type": "markdown",
      "metadata": {
        "id": "3dSDDUJ7evYV"
      },
      "source": [
        "2.1 Import Data and Required Packages\n",
        "Importing Pandas, Numpy, Matplotlib, Seaborn and Warings Library."
      ]
    },
    {
      "cell_type": "code",
      "execution_count": 9,
      "metadata": {},
      "outputs": [
        {
          "name": "stdout",
          "output_type": "stream",
          "text": [
            "Requirement already satisfied: seaborn in c:\\machine learning project\\venv\\lib\\site-packages (0.12.2)\n",
            "Requirement already satisfied: numpy!=1.24.0,>=1.17 in c:\\machine learning project\\venv\\lib\\site-packages (from seaborn) (1.24.2)\n",
            "Requirement already satisfied: matplotlib!=3.6.1,>=3.1 in c:\\machine learning project\\venv\\lib\\site-packages (from seaborn) (3.7.1)\n",
            "Requirement already satisfied: pandas>=0.25 in c:\\machine learning project\\venv\\lib\\site-packages (from seaborn) (1.5.3)\n",
            "Requirement already satisfied: packaging>=20.0 in c:\\machine learning project\\venv\\lib\\site-packages (from matplotlib!=3.6.1,>=3.1->seaborn) (23.0)\n",
            "Requirement already satisfied: contourpy>=1.0.1 in c:\\machine learning project\\venv\\lib\\site-packages (from matplotlib!=3.6.1,>=3.1->seaborn) (1.0.7)\n",
            "Requirement already satisfied: fonttools>=4.22.0 in c:\\machine learning project\\venv\\lib\\site-packages (from matplotlib!=3.6.1,>=3.1->seaborn) (4.39.3)\n",
            "Requirement already satisfied: kiwisolver>=1.0.1 in c:\\machine learning project\\venv\\lib\\site-packages (from matplotlib!=3.6.1,>=3.1->seaborn) (1.4.4)\n",
            "Requirement already satisfied: pillow>=6.2.0 in c:\\machine learning project\\venv\\lib\\site-packages (from matplotlib!=3.6.1,>=3.1->seaborn) (9.4.0)\n",
            "Requirement already satisfied: pyparsing>=2.3.1 in c:\\machine learning project\\venv\\lib\\site-packages (from matplotlib!=3.6.1,>=3.1->seaborn) (3.0.9)\n",
            "Requirement already satisfied: python-dateutil>=2.7 in c:\\machine learning project\\venv\\lib\\site-packages (from matplotlib!=3.6.1,>=3.1->seaborn) (2.8.2)\n",
            "Requirement already satisfied: cycler>=0.10 in c:\\machine learning project\\venv\\lib\\site-packages (from matplotlib!=3.6.1,>=3.1->seaborn) (0.11.0)\n",
            "Requirement already satisfied: importlib-resources>=3.2.0 in c:\\machine learning project\\venv\\lib\\site-packages (from matplotlib!=3.6.1,>=3.1->seaborn) (5.12.0)\n",
            "Requirement already satisfied: pytz>=2020.1 in c:\\machine learning project\\venv\\lib\\site-packages (from pandas>=0.25->seaborn) (2023.3)\n",
            "Requirement already satisfied: zipp>=3.1.0 in c:\\machine learning project\\venv\\lib\\site-packages (from importlib-resources>=3.2.0->matplotlib!=3.6.1,>=3.1->seaborn) (3.15.0)\n",
            "Requirement already satisfied: six>=1.5 in c:\\machine learning project\\venv\\lib\\site-packages (from python-dateutil>=2.7->matplotlib!=3.6.1,>=3.1->seaborn) (1.16.0)\n"
          ]
        }
      ],
      "source": [
        "!pip install seaborn"
      ]
    },
    {
      "cell_type": "code",
      "execution_count": 10,
      "metadata": {},
      "outputs": [],
      "source": [
        "import numpy as np\n",
        "import pandas as pd\n",
        "import matplotlib.pyplot as plt"
      ]
    },
    {
      "cell_type": "markdown",
      "metadata": {
        "id": "81T-2AB4fCK8"
      },
      "source": [
        "Import the CSV Data as Pandas DataFrame\n"
      ]
    },
    {
      "cell_type": "code",
      "execution_count": 12,
      "metadata": {
        "id": "EJkbA8KsfSR1"
      },
      "outputs": [
        {
          "ename": "PermissionError",
          "evalue": "[Errno 13] Permission denied: 'C:/Machine Learning Project/Notebook/Data'",
          "output_type": "error",
          "traceback": [
            "\u001b[1;31m---------------------------------------------------------------------------\u001b[0m",
            "\u001b[1;31mPermissionError\u001b[0m                           Traceback (most recent call last)",
            "Cell \u001b[1;32mIn[12], line 1\u001b[0m\n\u001b[1;32m----> 1\u001b[0m df \u001b[39m=\u001b[39m pd\u001b[39m.\u001b[39;49mread_csv(\u001b[39m'\u001b[39;49m\u001b[39mC:/Machine Learning Project/Notebook/Data\u001b[39;49m\u001b[39m'\u001b[39;49m)\n",
            "File \u001b[1;32mc:\\Machine Learning Project\\venv\\lib\\site-packages\\pandas\\util\\_decorators.py:211\u001b[0m, in \u001b[0;36mdeprecate_kwarg.<locals>._deprecate_kwarg.<locals>.wrapper\u001b[1;34m(*args, **kwargs)\u001b[0m\n\u001b[0;32m    209\u001b[0m     \u001b[39melse\u001b[39;00m:\n\u001b[0;32m    210\u001b[0m         kwargs[new_arg_name] \u001b[39m=\u001b[39m new_arg_value\n\u001b[1;32m--> 211\u001b[0m \u001b[39mreturn\u001b[39;00m func(\u001b[39m*\u001b[39;49margs, \u001b[39m*\u001b[39;49m\u001b[39m*\u001b[39;49mkwargs)\n",
            "File \u001b[1;32mc:\\Machine Learning Project\\venv\\lib\\site-packages\\pandas\\util\\_decorators.py:331\u001b[0m, in \u001b[0;36mdeprecate_nonkeyword_arguments.<locals>.decorate.<locals>.wrapper\u001b[1;34m(*args, **kwargs)\u001b[0m\n\u001b[0;32m    325\u001b[0m \u001b[39mif\u001b[39;00m \u001b[39mlen\u001b[39m(args) \u001b[39m>\u001b[39m num_allow_args:\n\u001b[0;32m    326\u001b[0m     warnings\u001b[39m.\u001b[39mwarn(\n\u001b[0;32m    327\u001b[0m         msg\u001b[39m.\u001b[39mformat(arguments\u001b[39m=\u001b[39m_format_argument_list(allow_args)),\n\u001b[0;32m    328\u001b[0m         \u001b[39mFutureWarning\u001b[39;00m,\n\u001b[0;32m    329\u001b[0m         stacklevel\u001b[39m=\u001b[39mfind_stack_level(),\n\u001b[0;32m    330\u001b[0m     )\n\u001b[1;32m--> 331\u001b[0m \u001b[39mreturn\u001b[39;00m func(\u001b[39m*\u001b[39;49margs, \u001b[39m*\u001b[39;49m\u001b[39m*\u001b[39;49mkwargs)\n",
            "File \u001b[1;32mc:\\Machine Learning Project\\venv\\lib\\site-packages\\pandas\\io\\parsers\\readers.py:950\u001b[0m, in \u001b[0;36mread_csv\u001b[1;34m(filepath_or_buffer, sep, delimiter, header, names, index_col, usecols, squeeze, prefix, mangle_dupe_cols, dtype, engine, converters, true_values, false_values, skipinitialspace, skiprows, skipfooter, nrows, na_values, keep_default_na, na_filter, verbose, skip_blank_lines, parse_dates, infer_datetime_format, keep_date_col, date_parser, dayfirst, cache_dates, iterator, chunksize, compression, thousands, decimal, lineterminator, quotechar, quoting, doublequote, escapechar, comment, encoding, encoding_errors, dialect, error_bad_lines, warn_bad_lines, on_bad_lines, delim_whitespace, low_memory, memory_map, float_precision, storage_options)\u001b[0m\n\u001b[0;32m    935\u001b[0m kwds_defaults \u001b[39m=\u001b[39m _refine_defaults_read(\n\u001b[0;32m    936\u001b[0m     dialect,\n\u001b[0;32m    937\u001b[0m     delimiter,\n\u001b[1;32m   (...)\u001b[0m\n\u001b[0;32m    946\u001b[0m     defaults\u001b[39m=\u001b[39m{\u001b[39m\"\u001b[39m\u001b[39mdelimiter\u001b[39m\u001b[39m\"\u001b[39m: \u001b[39m\"\u001b[39m\u001b[39m,\u001b[39m\u001b[39m\"\u001b[39m},\n\u001b[0;32m    947\u001b[0m )\n\u001b[0;32m    948\u001b[0m kwds\u001b[39m.\u001b[39mupdate(kwds_defaults)\n\u001b[1;32m--> 950\u001b[0m \u001b[39mreturn\u001b[39;00m _read(filepath_or_buffer, kwds)\n",
            "File \u001b[1;32mc:\\Machine Learning Project\\venv\\lib\\site-packages\\pandas\\io\\parsers\\readers.py:605\u001b[0m, in \u001b[0;36m_read\u001b[1;34m(filepath_or_buffer, kwds)\u001b[0m\n\u001b[0;32m    602\u001b[0m _validate_names(kwds\u001b[39m.\u001b[39mget(\u001b[39m\"\u001b[39m\u001b[39mnames\u001b[39m\u001b[39m\"\u001b[39m, \u001b[39mNone\u001b[39;00m))\n\u001b[0;32m    604\u001b[0m \u001b[39m# Create the parser.\u001b[39;00m\n\u001b[1;32m--> 605\u001b[0m parser \u001b[39m=\u001b[39m TextFileReader(filepath_or_buffer, \u001b[39m*\u001b[39;49m\u001b[39m*\u001b[39;49mkwds)\n\u001b[0;32m    607\u001b[0m \u001b[39mif\u001b[39;00m chunksize \u001b[39mor\u001b[39;00m iterator:\n\u001b[0;32m    608\u001b[0m     \u001b[39mreturn\u001b[39;00m parser\n",
            "File \u001b[1;32mc:\\Machine Learning Project\\venv\\lib\\site-packages\\pandas\\io\\parsers\\readers.py:1442\u001b[0m, in \u001b[0;36mTextFileReader.__init__\u001b[1;34m(self, f, engine, **kwds)\u001b[0m\n\u001b[0;32m   1439\u001b[0m     \u001b[39mself\u001b[39m\u001b[39m.\u001b[39moptions[\u001b[39m\"\u001b[39m\u001b[39mhas_index_names\u001b[39m\u001b[39m\"\u001b[39m] \u001b[39m=\u001b[39m kwds[\u001b[39m\"\u001b[39m\u001b[39mhas_index_names\u001b[39m\u001b[39m\"\u001b[39m]\n\u001b[0;32m   1441\u001b[0m \u001b[39mself\u001b[39m\u001b[39m.\u001b[39mhandles: IOHandles \u001b[39m|\u001b[39m \u001b[39mNone\u001b[39;00m \u001b[39m=\u001b[39m \u001b[39mNone\u001b[39;00m\n\u001b[1;32m-> 1442\u001b[0m \u001b[39mself\u001b[39m\u001b[39m.\u001b[39m_engine \u001b[39m=\u001b[39m \u001b[39mself\u001b[39;49m\u001b[39m.\u001b[39;49m_make_engine(f, \u001b[39mself\u001b[39;49m\u001b[39m.\u001b[39;49mengine)\n",
            "File \u001b[1;32mc:\\Machine Learning Project\\venv\\lib\\site-packages\\pandas\\io\\parsers\\readers.py:1735\u001b[0m, in \u001b[0;36mTextFileReader._make_engine\u001b[1;34m(self, f, engine)\u001b[0m\n\u001b[0;32m   1733\u001b[0m     \u001b[39mif\u001b[39;00m \u001b[39m\"\u001b[39m\u001b[39mb\u001b[39m\u001b[39m\"\u001b[39m \u001b[39mnot\u001b[39;00m \u001b[39min\u001b[39;00m mode:\n\u001b[0;32m   1734\u001b[0m         mode \u001b[39m+\u001b[39m\u001b[39m=\u001b[39m \u001b[39m\"\u001b[39m\u001b[39mb\u001b[39m\u001b[39m\"\u001b[39m\n\u001b[1;32m-> 1735\u001b[0m \u001b[39mself\u001b[39m\u001b[39m.\u001b[39mhandles \u001b[39m=\u001b[39m get_handle(\n\u001b[0;32m   1736\u001b[0m     f,\n\u001b[0;32m   1737\u001b[0m     mode,\n\u001b[0;32m   1738\u001b[0m     encoding\u001b[39m=\u001b[39;49m\u001b[39mself\u001b[39;49m\u001b[39m.\u001b[39;49moptions\u001b[39m.\u001b[39;49mget(\u001b[39m\"\u001b[39;49m\u001b[39mencoding\u001b[39;49m\u001b[39m\"\u001b[39;49m, \u001b[39mNone\u001b[39;49;00m),\n\u001b[0;32m   1739\u001b[0m     compression\u001b[39m=\u001b[39;49m\u001b[39mself\u001b[39;49m\u001b[39m.\u001b[39;49moptions\u001b[39m.\u001b[39;49mget(\u001b[39m\"\u001b[39;49m\u001b[39mcompression\u001b[39;49m\u001b[39m\"\u001b[39;49m, \u001b[39mNone\u001b[39;49;00m),\n\u001b[0;32m   1740\u001b[0m     memory_map\u001b[39m=\u001b[39;49m\u001b[39mself\u001b[39;49m\u001b[39m.\u001b[39;49moptions\u001b[39m.\u001b[39;49mget(\u001b[39m\"\u001b[39;49m\u001b[39mmemory_map\u001b[39;49m\u001b[39m\"\u001b[39;49m, \u001b[39mFalse\u001b[39;49;00m),\n\u001b[0;32m   1741\u001b[0m     is_text\u001b[39m=\u001b[39;49mis_text,\n\u001b[0;32m   1742\u001b[0m     errors\u001b[39m=\u001b[39;49m\u001b[39mself\u001b[39;49m\u001b[39m.\u001b[39;49moptions\u001b[39m.\u001b[39;49mget(\u001b[39m\"\u001b[39;49m\u001b[39mencoding_errors\u001b[39;49m\u001b[39m\"\u001b[39;49m, \u001b[39m\"\u001b[39;49m\u001b[39mstrict\u001b[39;49m\u001b[39m\"\u001b[39;49m),\n\u001b[0;32m   1743\u001b[0m     storage_options\u001b[39m=\u001b[39;49m\u001b[39mself\u001b[39;49m\u001b[39m.\u001b[39;49moptions\u001b[39m.\u001b[39;49mget(\u001b[39m\"\u001b[39;49m\u001b[39mstorage_options\u001b[39;49m\u001b[39m\"\u001b[39;49m, \u001b[39mNone\u001b[39;49;00m),\n\u001b[0;32m   1744\u001b[0m )\n\u001b[0;32m   1745\u001b[0m \u001b[39massert\u001b[39;00m \u001b[39mself\u001b[39m\u001b[39m.\u001b[39mhandles \u001b[39mis\u001b[39;00m \u001b[39mnot\u001b[39;00m \u001b[39mNone\u001b[39;00m\n\u001b[0;32m   1746\u001b[0m f \u001b[39m=\u001b[39m \u001b[39mself\u001b[39m\u001b[39m.\u001b[39mhandles\u001b[39m.\u001b[39mhandle\n",
            "File \u001b[1;32mc:\\Machine Learning Project\\venv\\lib\\site-packages\\pandas\\io\\common.py:856\u001b[0m, in \u001b[0;36mget_handle\u001b[1;34m(path_or_buf, mode, encoding, compression, memory_map, is_text, errors, storage_options)\u001b[0m\n\u001b[0;32m    851\u001b[0m \u001b[39melif\u001b[39;00m \u001b[39misinstance\u001b[39m(handle, \u001b[39mstr\u001b[39m):\n\u001b[0;32m    852\u001b[0m     \u001b[39m# Check whether the filename is to be opened in binary mode.\u001b[39;00m\n\u001b[0;32m    853\u001b[0m     \u001b[39m# Binary mode does not support 'encoding' and 'newline'.\u001b[39;00m\n\u001b[0;32m    854\u001b[0m     \u001b[39mif\u001b[39;00m ioargs\u001b[39m.\u001b[39mencoding \u001b[39mand\u001b[39;00m \u001b[39m\"\u001b[39m\u001b[39mb\u001b[39m\u001b[39m\"\u001b[39m \u001b[39mnot\u001b[39;00m \u001b[39min\u001b[39;00m ioargs\u001b[39m.\u001b[39mmode:\n\u001b[0;32m    855\u001b[0m         \u001b[39m# Encoding\u001b[39;00m\n\u001b[1;32m--> 856\u001b[0m         handle \u001b[39m=\u001b[39m \u001b[39mopen\u001b[39;49m(\n\u001b[0;32m    857\u001b[0m             handle,\n\u001b[0;32m    858\u001b[0m             ioargs\u001b[39m.\u001b[39;49mmode,\n\u001b[0;32m    859\u001b[0m             encoding\u001b[39m=\u001b[39;49mioargs\u001b[39m.\u001b[39;49mencoding,\n\u001b[0;32m    860\u001b[0m             errors\u001b[39m=\u001b[39;49merrors,\n\u001b[0;32m    861\u001b[0m             newline\u001b[39m=\u001b[39;49m\u001b[39m\"\u001b[39;49m\u001b[39m\"\u001b[39;49m,\n\u001b[0;32m    862\u001b[0m         )\n\u001b[0;32m    863\u001b[0m     \u001b[39melse\u001b[39;00m:\n\u001b[0;32m    864\u001b[0m         \u001b[39m# Binary mode\u001b[39;00m\n\u001b[0;32m    865\u001b[0m         handle \u001b[39m=\u001b[39m \u001b[39mopen\u001b[39m(handle, ioargs\u001b[39m.\u001b[39mmode)\n",
            "\u001b[1;31mPermissionError\u001b[0m: [Errno 13] Permission denied: 'C:/Machine Learning Project/Notebook/Data'"
          ]
        }
      ],
      "source": [
        "df = pd.read_csv('Notebook/Data/StudentsPerformance.csv')"
      ]
    },
    {
      "cell_type": "code",
      "execution_count": null,
      "metadata": {
        "id": "XuqjEEyffm6D"
      },
      "outputs": [
        {
          "ename": "",
          "evalue": "",
          "output_type": "error",
          "traceback": [
            "\u001b[1;31mRunning cells with 'c:\\Machine Learning Project\\venv\\python.exe' requires the ipykernel package.\n",
            "\u001b[1;31mRun the following command to install 'ipykernel' into the Python environment. \n",
            "\u001b[1;31mCommand: 'conda install -p c:\\Machine Learning Project\\venv ipykernel --update-deps --force-reinstall'"
          ]
        }
      ],
      "source": [
        "df.head()"
      ]
    },
    {
      "cell_type": "markdown",
      "metadata": {
        "id": "DokxBaOThDzA"
      },
      "source": [
        "2.2 Dataset information\n",
        "gender : sex of students -> (Male/female)\n",
        "race/ethnicity : ethnicity of students -> (Group A, B,C, D,E)\n",
        "parental level of education : parents' final education ->(bachelor's degree,some college,master's degree,associate's degree,high school)\n",
        "lunch : having lunch before test (standard or free/reduced)\n",
        "test preparation course : complete or not complete before test\n",
        "math score\n",
        "reading score\n",
        "writing score"
      ]
    },
    {
      "cell_type": "markdown",
      "metadata": {
        "id": "pWe_IHzuhelt"
      },
      "source": [
        "3.Data Checks to perform\n",
        "1)Check Missing values\n",
        "2)Check Duplicates\n",
        "3)Check data type\n",
        "4)Check the number of unique values of each column\n",
        "5)Check statistics of data set\n",
        "6)Check various categories present in the different categorical column"
      ]
    },
    {
      "cell_type": "code",
      "execution_count": null,
      "metadata": {
        "id": "Fm44sC4niL-6"
      },
      "outputs": [
        {
          "ename": "",
          "evalue": "",
          "output_type": "error",
          "traceback": [
            "\u001b[1;31mRunning cells with 'c:\\Machine Learning Project\\venv\\python.exe' requires the ipykernel package.\n",
            "\u001b[1;31mRun the following command to install 'ipykernel' into the Python environment. \n",
            "\u001b[1;31mCommand: 'conda install -p c:\\Machine Learning Project\\venv ipykernel --update-deps --force-reinstall'"
          ]
        }
      ],
      "source": [
        "# checking the missing values"
      ]
    },
    {
      "cell_type": "code",
      "execution_count": null,
      "metadata": {
        "id": "raQq4tBPg7px"
      },
      "outputs": [
        {
          "ename": "",
          "evalue": "",
          "output_type": "error",
          "traceback": [
            "\u001b[1;31mRunning cells with 'c:\\Machine Learning Project\\venv\\python.exe' requires the ipykernel package.\n",
            "\u001b[1;31mRun the following command to install 'ipykernel' into the Python environment. \n",
            "\u001b[1;31mCommand: 'conda install -p c:\\Machine Learning Project\\venv ipykernel --update-deps --force-reinstall'"
          ]
        }
      ],
      "source": [
        "df.isna().sum()"
      ]
    },
    {
      "cell_type": "code",
      "execution_count": null,
      "metadata": {
        "id": "XkNTAO__iRCB"
      },
      "outputs": [
        {
          "ename": "",
          "evalue": "",
          "output_type": "error",
          "traceback": [
            "\u001b[1;31mRunning cells with 'c:\\Machine Learning Project\\venv\\python.exe' requires the ipykernel package.\n",
            "\u001b[1;31mRun the following command to install 'ipykernel' into the Python environment. \n",
            "\u001b[1;31mCommand: 'conda install -p c:\\Machine Learning Project\\venv ipykernel --update-deps --force-reinstall'"
          ]
        }
      ],
      "source": [
        "# 2)Check Duplicates"
      ]
    },
    {
      "cell_type": "code",
      "execution_count": null,
      "metadata": {
        "id": "l1-ymtbfiR2Z"
      },
      "outputs": [
        {
          "ename": "",
          "evalue": "",
          "output_type": "error",
          "traceback": [
            "\u001b[1;31mRunning cells with 'c:\\Machine Learning Project\\venv\\python.exe' requires the ipykernel package.\n",
            "\u001b[1;31mRun the following command to install 'ipykernel' into the Python environment. \n",
            "\u001b[1;31mCommand: 'conda install -p c:\\Machine Learning Project\\venv ipykernel --update-deps --force-reinstall'"
          ]
        }
      ],
      "source": [
        "df.duplicated().sum()"
      ]
    },
    {
      "cell_type": "code",
      "execution_count": null,
      "metadata": {
        "id": "xgak4ighiaTk"
      },
      "outputs": [
        {
          "ename": "",
          "evalue": "",
          "output_type": "error",
          "traceback": [
            "\u001b[1;31mRunning cells with 'c:\\Machine Learning Project\\venv\\python.exe' requires the ipykernel package.\n",
            "\u001b[1;31mRun the following command to install 'ipykernel' into the Python environment. \n",
            "\u001b[1;31mCommand: 'conda install -p c:\\Machine Learning Project\\venv ipykernel --update-deps --force-reinstall'"
          ]
        }
      ],
      "source": [
        "# 3)Check data type"
      ]
    },
    {
      "cell_type": "code",
      "execution_count": null,
      "metadata": {
        "id": "YLMi_B11ibrj"
      },
      "outputs": [
        {
          "ename": "",
          "evalue": "",
          "output_type": "error",
          "traceback": [
            "\u001b[1;31mRunning cells with 'c:\\Machine Learning Project\\venv\\python.exe' requires the ipykernel package.\n",
            "\u001b[1;31mRun the following command to install 'ipykernel' into the Python environment. \n",
            "\u001b[1;31mCommand: 'conda install -p c:\\Machine Learning Project\\venv ipykernel --update-deps --force-reinstall'"
          ]
        }
      ],
      "source": [
        "df.dtypes"
      ]
    },
    {
      "cell_type": "code",
      "execution_count": null,
      "metadata": {
        "id": "CpQbmRalihYY"
      },
      "outputs": [
        {
          "ename": "",
          "evalue": "",
          "output_type": "error",
          "traceback": [
            "\u001b[1;31mRunning cells with 'c:\\Machine Learning Project\\venv\\python.exe' requires the ipykernel package.\n",
            "\u001b[1;31mRun the following command to install 'ipykernel' into the Python environment. \n",
            "\u001b[1;31mCommand: 'conda install -p c:\\Machine Learning Project\\venv ipykernel --update-deps --force-reinstall'"
          ]
        }
      ],
      "source": [
        " # 4)Check the number of unique values of each column"
      ]
    },
    {
      "cell_type": "code",
      "execution_count": null,
      "metadata": {
        "id": "E0Y4tMM4jg9F"
      },
      "outputs": [
        {
          "ename": "",
          "evalue": "",
          "output_type": "error",
          "traceback": [
            "\u001b[1;31mRunning cells with 'c:\\Machine Learning Project\\venv\\python.exe' requires the ipykernel package.\n",
            "\u001b[1;31mRun the following command to install 'ipykernel' into the Python environment. \n",
            "\u001b[1;31mCommand: 'conda install -p c:\\Machine Learning Project\\venv ipykernel --update-deps --force-reinstall'"
          ]
        }
      ],
      "source": [
        "# easy to unique values in each column"
      ]
    },
    {
      "cell_type": "code",
      "execution_count": null,
      "metadata": {
        "id": "WXKL2zexijNl"
      },
      "outputs": [
        {
          "ename": "",
          "evalue": "",
          "output_type": "error",
          "traceback": [
            "\u001b[1;31mRunning cells with 'c:\\Machine Learning Project\\venv\\python.exe' requires the ipykernel package.\n",
            "\u001b[1;31mRun the following command to install 'ipykernel' into the Python environment. \n",
            "\u001b[1;31mCommand: 'conda install -p c:\\Machine Learning Project\\venv ipykernel --update-deps --force-reinstall'"
          ]
        }
      ],
      "source": [
        "df.nunique()"
      ]
    },
    {
      "cell_type": "code",
      "execution_count": null,
      "metadata": {
        "id": "rd-v7RoAmWzK"
      },
      "outputs": [
        {
          "ename": "",
          "evalue": "",
          "output_type": "error",
          "traceback": [
            "\u001b[1;31mRunning cells with 'c:\\Machine Learning Project\\venv\\python.exe' requires the ipykernel package.\n",
            "\u001b[1;31mRun the following command to install 'ipykernel' into the Python environment. \n",
            "\u001b[1;31mCommand: 'conda install -p c:\\Machine Learning Project\\venv ipykernel --update-deps --force-reinstall'"
          ]
        }
      ],
      "source": [
        "# 5)Check statistics of data set\n"
      ]
    },
    {
      "cell_type": "code",
      "execution_count": null,
      "metadata": {
        "id": "j9HKmWoYjzg6"
      },
      "outputs": [
        {
          "ename": "",
          "evalue": "",
          "output_type": "error",
          "traceback": [
            "\u001b[1;31mRunning cells with 'c:\\Machine Learning Project\\venv\\python.exe' requires the ipykernel package.\n",
            "\u001b[1;31mRun the following command to install 'ipykernel' into the Python environment. \n",
            "\u001b[1;31mCommand: 'conda install -p c:\\Machine Learning Project\\venv ipykernel --update-deps --force-reinstall'"
          ]
        }
      ],
      "source": [
        "df.describe()"
      ]
    },
    {
      "cell_type": "code",
      "execution_count": null,
      "metadata": {
        "id": "f0TIHcCWmA6e"
      },
      "outputs": [
        {
          "ename": "",
          "evalue": "",
          "output_type": "error",
          "traceback": [
            "\u001b[1;31mRunning cells with 'c:\\Machine Learning Project\\venv\\python.exe' requires the ipykernel package.\n",
            "\u001b[1;31mRun the following command to install 'ipykernel' into the Python environment. \n",
            "\u001b[1;31mCommand: 'conda install -p c:\\Machine Learning Project\\venv ipykernel --update-deps --force-reinstall'"
          ]
        }
      ],
      "source": [
        "# this is an another way to find the unique values in the column"
      ]
    },
    {
      "cell_type": "code",
      "execution_count": null,
      "metadata": {
        "id": "Q27Ulx0TkNF2"
      },
      "outputs": [
        {
          "ename": "",
          "evalue": "",
          "output_type": "error",
          "traceback": [
            "\u001b[1;31mRunning cells with 'c:\\Machine Learning Project\\venv\\python.exe' requires the ipykernel package.\n",
            "\u001b[1;31mRun the following command to install 'ipykernel' into the Python environment. \n",
            "\u001b[1;31mCommand: 'conda install -p c:\\Machine Learning Project\\venv ipykernel --update-deps --force-reinstall'"
          ]
        }
      ],
      "source": [
        "for i in df.columns:\n",
        "  f = df[i].nunique()\n",
        "  print(i,f)"
      ]
    },
    {
      "cell_type": "code",
      "execution_count": null,
      "metadata": {
        "id": "ZdWancUPmFim"
      },
      "outputs": [
        {
          "ename": "",
          "evalue": "",
          "output_type": "error",
          "traceback": [
            "\u001b[1;31mRunning cells with 'c:\\Machine Learning Project\\venv\\python.exe' requires the ipykernel package.\n",
            "\u001b[1;31mRun the following command to install 'ipykernel' into the Python environment. \n",
            "\u001b[1;31mCommand: 'conda install -p c:\\Machine Learning Project\\venv ipykernel --update-deps --force-reinstall'"
          ]
        }
      ],
      "source": [
        "# different categories present in the column"
      ]
    },
    {
      "cell_type": "code",
      "execution_count": null,
      "metadata": {
        "id": "RoxsDOqYnDnb"
      },
      "outputs": [
        {
          "ename": "",
          "evalue": "",
          "output_type": "error",
          "traceback": [
            "\u001b[1;31mRunning cells with 'c:\\Machine Learning Project\\venv\\python.exe' requires the ipykernel package.\n",
            "\u001b[1;31mRun the following command to install 'ipykernel' into the Python environment. \n",
            "\u001b[1;31mCommand: 'conda install -p c:\\Machine Learning Project\\venv ipykernel --update-deps --force-reinstall'"
          ]
        }
      ],
      "source": [
        "df.head(1)"
      ]
    },
    {
      "cell_type": "code",
      "execution_count": null,
      "metadata": {
        "id": "Y9uY2gXpsDv0"
      },
      "outputs": [
        {
          "ename": "",
          "evalue": "",
          "output_type": "error",
          "traceback": [
            "\u001b[1;31mRunning cells with 'c:\\Machine Learning Project\\venv\\python.exe' requires the ipykernel package.\n",
            "\u001b[1;31mRun the following command to install 'ipykernel' into the Python environment. \n",
            "\u001b[1;31mCommand: 'conda install -p c:\\Machine Learning Project\\venv ipykernel --update-deps --force-reinstall'"
          ]
        }
      ],
      "source": [
        "df.columns"
      ]
    },
    {
      "cell_type": "code",
      "execution_count": null,
      "metadata": {
        "id": "UyxpuwdBm8zK"
      },
      "outputs": [
        {
          "ename": "",
          "evalue": "",
          "output_type": "error",
          "traceback": [
            "\u001b[1;31mRunning cells with 'c:\\Machine Learning Project\\venv\\python.exe' requires the ipykernel package.\n",
            "\u001b[1;31mRun the following command to install 'ipykernel' into the Python environment. \n",
            "\u001b[1;31mCommand: 'conda install -p c:\\Machine Learning Project\\venv ipykernel --update-deps --force-reinstall'"
          ]
        }
      ],
      "source": [
        "print(\"no of unique categorial values in present in gender'\",end=\" \")\n",
        "print(df['gender'].unique())\n",
        "print(\"no of unique categorial values in present in lunch'\",end=\" \")\n",
        "print(df['lunch'].unique())\n",
        "print(\"no of unique categorial values in present in  parental level of education\t'\",end=\" \")\n",
        "print(df['parental level of education'].unique())\n",
        "print(\"no of unique categorial values in present in   race/ethnicity\",end=\" \")\n",
        "print(df['race/ethnicity'].unique())"
      ]
    },
    {
      "cell_type": "code",
      "execution_count": null,
      "metadata": {
        "id": "EK8pmJVSobkk"
      },
      "outputs": [
        {
          "ename": "",
          "evalue": "",
          "output_type": "error",
          "traceback": [
            "\u001b[1;31mRunning cells with 'c:\\Machine Learning Project\\venv\\python.exe' requires the ipykernel package.\n",
            "\u001b[1;31mRun the following command to install 'ipykernel' into the Python environment. \n",
            "\u001b[1;31mCommand: 'conda install -p c:\\Machine Learning Project\\venv ipykernel --update-deps --force-reinstall'"
          ]
        }
      ],
      "source": [
        "# define numerical and categorical columns\n",
        "numerical = [feature for feature in df.columns if df[feature].dtype!='object']\n",
        "categorical = [feature for feature in df.columns if df[feature].dtype=='object']\n",
        "# printing numerical and categorical features\n",
        "print(\"the lenght of numerical features is {} and they are {} \".format(len(numerical),numerical))\n",
        "print(\"the lenght of categorical features is {} and they are {} \".format(len(categorical),categorical))"
      ]
    },
    {
      "cell_type": "code",
      "execution_count": null,
      "metadata": {
        "id": "gSxccMCpr7j2"
      },
      "outputs": [
        {
          "ename": "",
          "evalue": "",
          "output_type": "error",
          "traceback": [
            "\u001b[1;31mRunning cells with 'c:\\Machine Learning Project\\venv\\python.exe' requires the ipykernel package.\n",
            "\u001b[1;31mRun the following command to install 'ipykernel' into the Python environment. \n",
            "\u001b[1;31mCommand: 'conda install -p c:\\Machine Learning Project\\venv ipykernel --update-deps --force-reinstall'"
          ]
        }
      ],
      "source": [
        "df['total score'] = df['math score'] + df['reading score'] + df['writing score']\n",
        "df['average'] = df['total score']/3\n",
        "df.head()"
      ]
    },
    {
      "cell_type": "code",
      "execution_count": null,
      "metadata": {
        "id": "mInyj0epw5LO"
      },
      "outputs": [
        {
          "ename": "",
          "evalue": "",
          "output_type": "error",
          "traceback": [
            "\u001b[1;31mRunning cells with 'c:\\Machine Learning Project\\venv\\python.exe' requires the ipykernel package.\n",
            "\u001b[1;31mRun the following command to install 'ipykernel' into the Python environment. \n",
            "\u001b[1;31mCommand: 'conda install -p c:\\Machine Learning Project\\venv ipykernel --update-deps --force-reinstall'"
          ]
        }
      ],
      "source": [
        "# students who performed very well "
      ]
    },
    {
      "cell_type": "code",
      "execution_count": null,
      "metadata": {
        "id": "R6ia0WSNv9E8"
      },
      "outputs": [
        {
          "ename": "",
          "evalue": "",
          "output_type": "error",
          "traceback": [
            "\u001b[1;31mRunning cells with 'c:\\Machine Learning Project\\venv\\python.exe' requires the ipykernel package.\n",
            "\u001b[1;31mRun the following command to install 'ipykernel' into the Python environment. \n",
            "\u001b[1;31mCommand: 'conda install -p c:\\Machine Learning Project\\venv ipykernel --update-deps --force-reinstall'"
          ]
        }
      ],
      "source": [
        "reading_score_greater90 = df[df['reading score']>=90]['average'].count()\n",
        "math_score_greater90 = df[df['math score']>=90]['average'].count()\n",
        "writing_score_greater90 = df[df['writing score']>=90]['average'].count()\n",
        "print(\"no of students performed well in reading_score {}\".format(reading_score_greater90))\n",
        "print(\"no of students performed well in math_score {}\".format(math_score_greater90))\n",
        "print(\"no of students performed well in writing_score {}\".format(writing_score_greater90))"
      ]
    },
    {
      "cell_type": "code",
      "execution_count": null,
      "metadata": {
        "id": "-hj__x02tDKF"
      },
      "outputs": [
        {
          "ename": "",
          "evalue": "",
          "output_type": "error",
          "traceback": [
            "\u001b[1;31mRunning cells with 'c:\\Machine Learning Project\\venv\\python.exe' requires the ipykernel package.\n",
            "\u001b[1;31mRun the following command to install 'ipykernel' into the Python environment. \n",
            "\u001b[1;31mCommand: 'conda install -p c:\\Machine Learning Project\\venv ipykernel --update-deps --force-reinstall'"
          ]
        }
      ],
      "source": [
        "df[df['reading score'] <= 20]['average'].count()"
      ]
    },
    {
      "cell_type": "code",
      "execution_count": null,
      "metadata": {
        "id": "cwldAfrkyosr"
      },
      "outputs": [
        {
          "ename": "",
          "evalue": "",
          "output_type": "error",
          "traceback": [
            "\u001b[1;31mRunning cells with 'c:\\Machine Learning Project\\venv\\python.exe' requires the ipykernel package.\n",
            "\u001b[1;31mRun the following command to install 'ipykernel' into the Python environment. \n",
            "\u001b[1;31mCommand: 'conda install -p c:\\Machine Learning Project\\venv ipykernel --update-deps --force-reinstall'"
          ]
        }
      ],
      "source": [
        "# students who performed very poor "
      ]
    },
    {
      "cell_type": "code",
      "execution_count": null,
      "metadata": {
        "id": "SSSYiEQayrMI"
      },
      "outputs": [
        {
          "ename": "",
          "evalue": "",
          "output_type": "error",
          "traceback": [
            "\u001b[1;31mRunning cells with 'c:\\Machine Learning Project\\venv\\python.exe' requires the ipykernel package.\n",
            "\u001b[1;31mRun the following command to install 'ipykernel' into the Python environment. \n",
            "\u001b[1;31mCommand: 'conda install -p c:\\Machine Learning Project\\venv ipykernel --update-deps --force-reinstall'"
          ]
        }
      ],
      "source": [
        "reading_score_poor = df[df['reading score']<=30]['average'].count()\n",
        "math_score_poor = df[df['math score']<=30]['average'].count()\n",
        "writing_score_poor = df[df['writing score']<=30]['average'].count()\n",
        "print(\"no of syudents performed well in reading_score {}\".format(reading_score_poor))\n",
        "print(\"no of syudents performed well in math_score {}\".format(math_score_poor))\n",
        "print(\"no of syudents performed well in writing_score {}\".format(writing_score_poor))"
      ]
    },
    {
      "cell_type": "markdown",
      "metadata": {
        "id": "snU99QU5zgvU"
      },
      "source": [
        "4. Exploring Data ( Visualization )\n"
      ]
    },
    {
      "cell_type": "code",
      "execution_count": null,
      "metadata": {
        "id": "sjadT31g1qBZ"
      },
      "outputs": [
        {
          "ename": "",
          "evalue": "",
          "output_type": "error",
          "traceback": [
            "\u001b[1;31mRunning cells with 'c:\\Machine Learning Project\\venv\\python.exe' requires the ipykernel package.\n",
            "\u001b[1;31mRun the following command to install 'ipykernel' into the Python environment. \n",
            "\u001b[1;31mCommand: 'conda install -p c:\\Machine Learning Project\\venv ipykernel --update-deps --force-reinstall'"
          ]
        }
      ],
      "source": [
        "import seaborn as sns"
      ]
    },
    {
      "cell_type": "code",
      "execution_count": null,
      "metadata": {
        "id": "5OLENqy-ziAb"
      },
      "outputs": [
        {
          "ename": "",
          "evalue": "",
          "output_type": "error",
          "traceback": [
            "\u001b[1;31mRunning cells with 'c:\\Machine Learning Project\\venv\\python.exe' requires the ipykernel package.\n",
            "\u001b[1;31mRun the following command to install 'ipykernel' into the Python environment. \n",
            "\u001b[1;31mCommand: 'conda install -p c:\\Machine Learning Project\\venv ipykernel --update-deps --force-reinstall'"
          ]
        }
      ],
      "source": [
        "fig, axs = plt.subplots(1, 2, figsize=(15, 7))\n",
        "plt.subplot(121)\n",
        "sns.histplot(data=df,x='average',bins=30,kde=True,color='g')\n",
        "plt.subplot(122)\n",
        "sns.histplot(data=df,x='average',kde=True,hue='gender')\n",
        "plt.show()\n"
      ]
    },
    {
      "cell_type": "code",
      "execution_count": null,
      "metadata": {
        "id": "44FUtJ-t2tdN"
      },
      "outputs": [
        {
          "ename": "",
          "evalue": "",
          "output_type": "error",
          "traceback": [
            "\u001b[1;31mRunning cells with 'c:\\Machine Learning Project\\venv\\python.exe' requires the ipykernel package.\n",
            "\u001b[1;31mRun the following command to install 'ipykernel' into the Python environment. \n",
            "\u001b[1;31mCommand: 'conda install -p c:\\Machine Learning Project\\venv ipykernel --update-deps --force-reinstall'"
          ]
        }
      ],
      "source": [
        "fig,axs = plt.subplots(1,2,figsize=(13,17))\n",
        "plt.subplot(121)\n",
        "sns.histplot(data=df,x='total score',bins=40,color='g')\n",
        "plt.subplot(122)\n",
        "sns.histplot(data=df,x='total score',bins=40,hue='gender')\n",
        "plt.show()"
      ]
    },
    {
      "cell_type": "code",
      "execution_count": null,
      "metadata": {
        "id": "UW7Mu-SZ6FGZ"
      },
      "outputs": [
        {
          "ename": "",
          "evalue": "",
          "output_type": "error",
          "traceback": [
            "\u001b[1;31mRunning cells with 'c:\\Machine Learning Project\\venv\\python.exe' requires the ipykernel package.\n",
            "\u001b[1;31mRun the following command to install 'ipykernel' into the Python environment. \n",
            "\u001b[1;31mCommand: 'conda install -p c:\\Machine Learning Project\\venv ipykernel --update-deps --force-reinstall'"
          ]
        }
      ],
      "source": [
        "# femal student perform better tha male students"
      ]
    },
    {
      "cell_type": "code",
      "execution_count": null,
      "metadata": {
        "id": "DbqSzQpH56oM"
      },
      "outputs": [
        {
          "ename": "",
          "evalue": "",
          "output_type": "error",
          "traceback": [
            "\u001b[1;31mRunning cells with 'c:\\Machine Learning Project\\venv\\python.exe' requires the ipykernel package.\n",
            "\u001b[1;31mRun the following command to install 'ipykernel' into the Python environment. \n",
            "\u001b[1;31mCommand: 'conda install -p c:\\Machine Learning Project\\venv ipykernel --update-deps --force-reinstall'"
          ]
        }
      ],
      "source": [
        "plt.subplots(1,3,figsize=(25,6))\n",
        "plt.subplot(141)\n",
        "sns.histplot(data=df,x='average',kde=True,hue='lunch')\n",
        "plt.subplot(142)\n",
        "sns.histplot(data=df[df.gender=='female'],x='average',kde=True,hue='lunch')\n",
        "plt.subplot(143)\n",
        "sns.histplot(data=df[df.gender=='male'],x='average',kde=True,hue='lunch')\n",
        "plt.show()"
      ]
    },
    {
      "cell_type": "code",
      "execution_count": null,
      "metadata": {
        "id": "0UZatifW6JVg"
      },
      "outputs": [
        {
          "ename": "",
          "evalue": "",
          "output_type": "error",
          "traceback": [
            "\u001b[1;31mRunning cells with 'c:\\Machine Learning Project\\venv\\python.exe' requires the ipykernel package.\n",
            "\u001b[1;31mRun the following command to install 'ipykernel' into the Python environment. \n",
            "\u001b[1;31mCommand: 'conda install -p c:\\Machine Learning Project\\venv ipykernel --update-deps --force-reinstall'"
          ]
        }
      ],
      "source": [
        "# standard lunch helps students better ti score well"
      ]
    },
    {
      "cell_type": "code",
      "execution_count": null,
      "metadata": {
        "id": "adWxEsRJ6o_Y"
      },
      "outputs": [
        {
          "ename": "",
          "evalue": "",
          "output_type": "error",
          "traceback": [
            "\u001b[1;31mRunning cells with 'c:\\Machine Learning Project\\venv\\python.exe' requires the ipykernel package.\n",
            "\u001b[1;31mRun the following command to install 'ipykernel' into the Python environment. \n",
            "\u001b[1;31mCommand: 'conda install -p c:\\Machine Learning Project\\venv ipykernel --update-deps --force-reinstall'"
          ]
        }
      ],
      "source": [
        "df"
      ]
    },
    {
      "cell_type": "code",
      "execution_count": null,
      "metadata": {
        "id": "K7eau2Oc66f6"
      },
      "outputs": [
        {
          "ename": "",
          "evalue": "",
          "output_type": "error",
          "traceback": [
            "\u001b[1;31mRunning cells with 'c:\\Machine Learning Project\\venv\\python.exe' requires the ipykernel package.\n",
            "\u001b[1;31mRun the following command to install 'ipykernel' into the Python environment. \n",
            "\u001b[1;31mCommand: 'conda install -p c:\\Machine Learning Project\\venv ipykernel --update-deps --force-reinstall'"
          ]
        }
      ],
      "source": [
        "df.columns"
      ]
    },
    {
      "cell_type": "code",
      "execution_count": null,
      "metadata": {
        "id": "caOMrZ206YXl"
      },
      "outputs": [
        {
          "ename": "",
          "evalue": "",
          "output_type": "error",
          "traceback": [
            "\u001b[1;31mRunning cells with 'c:\\Machine Learning Project\\venv\\python.exe' requires the ipykernel package.\n",
            "\u001b[1;31mRun the following command to install 'ipykernel' into the Python environment. \n",
            "\u001b[1;31mCommand: 'conda install -p c:\\Machine Learning Project\\venv ipykernel --update-deps --force-reinstall'"
          ]
        }
      ],
      "source": [
        "plt.subplots(1,3,figsize=(25,6))\n",
        "plt.subplot(141)\n",
        "sns.histplot(data=df,x='average',kde=True,hue='parental level of education')\n",
        "plt.subplot(142)\n",
        "sns.histplot(data=df[df.gender=='female'],x='average',kde=True,hue='parental level of education')\n",
        "plt.subplot(143)\n",
        "sns.histplot(data=df[df.gender=='male'],x='average',kde=True,hue='parental level of education')\n",
        "plt.show()"
      ]
    },
    {
      "cell_type": "code",
      "execution_count": null,
      "metadata": {
        "id": "QArQJ6Xb72UB"
      },
      "outputs": [
        {
          "ename": "",
          "evalue": "",
          "output_type": "error",
          "traceback": [
            "\u001b[1;31mRunning cells with 'c:\\Machine Learning Project\\venv\\python.exe' requires the ipykernel package.\n",
            "\u001b[1;31mRun the following command to install 'ipykernel' into the Python environment. \n",
            "\u001b[1;31mCommand: 'conda install -p c:\\Machine Learning Project\\venv ipykernel --update-deps --force-reinstall'"
          ]
        }
      ],
      "source": [
        "plt.subplots(1,3,figsize=(25,6))\n",
        "plt.subplot(141)\n",
        "ax =sns.histplot(data=df,x='average',kde=True,hue='race/ethnicity')\n",
        "plt.subplot(142)\n",
        "ax =sns.histplot(data=df[df.gender=='female'],x='average',kde=True,hue='race/ethnicity')\n",
        "plt.subplot(143)\n",
        "ax =sns.histplot(data=df[df.gender=='male'],x='average',kde=True,hue='race/ethnicity')\n",
        "plt.show()"
      ]
    },
    {
      "cell_type": "code",
      "execution_count": null,
      "metadata": {
        "id": "2zoxNQ1Aj21Y"
      },
      "outputs": [
        {
          "ename": "",
          "evalue": "",
          "output_type": "error",
          "traceback": [
            "\u001b[1;31mRunning cells with 'c:\\Machine Learning Project\\venv\\python.exe' requires the ipykernel package.\n",
            "\u001b[1;31mRun the following command to install 'ipykernel' into the Python environment. \n",
            "\u001b[1;31mCommand: 'conda install -p c:\\Machine Learning Project\\venv ipykernel --update-deps --force-reinstall'"
          ]
        }
      ],
      "source": [
        "plt.figure(figsize=(18,8))\n",
        "plt.subplot(1, 4, 1)\n",
        "plt.title('MATH SCORES')\n",
        "sns.violinplot(y='math score',data=df,color='red',linewidth=3)\n",
        "plt.subplot(1, 4, 2)\n",
        "plt.title('READING SCORES')\n",
        "sns.violinplot(y='reading score',data=df,color='green',linewidth=3)\n",
        "plt.subplot(1, 4, 3)\n",
        "plt.title('WRITING SCORES')\n",
        "sns.violinplot(y='writing score',data=df,color='blue',linewidth=3)\n",
        "plt.show()"
      ]
    },
    {
      "cell_type": "markdown",
      "metadata": {
        "id": "mBgk4es_lc6M"
      },
      "source": [
        "4.4 Feature Wise Visualization\n"
      ]
    },
    {
      "cell_type": "code",
      "execution_count": null,
      "metadata": {
        "id": "9qS-4Q8Hle4v"
      },
      "outputs": [
        {
          "ename": "",
          "evalue": "",
          "output_type": "error",
          "traceback": [
            "\u001b[1;31mRunning cells with 'c:\\Machine Learning Project\\venv\\python.exe' requires the ipykernel package.\n",
            "\u001b[1;31mRun the following command to install 'ipykernel' into the Python environment. \n",
            "\u001b[1;31mCommand: 'conda install -p c:\\Machine Learning Project\\venv ipykernel --update-deps --force-reinstall'"
          ]
        }
      ],
      "source": [
        "# univariate "
      ]
    },
    {
      "cell_type": "code",
      "execution_count": null,
      "metadata": {
        "id": "5LMcyVzLBIMe"
      },
      "outputs": [
        {
          "ename": "",
          "evalue": "",
          "output_type": "error",
          "traceback": [
            "\u001b[1;31mRunning cells with 'c:\\Machine Learning Project\\venv\\python.exe' requires the ipykernel package.\n",
            "\u001b[1;31mRun the following command to install 'ipykernel' into the Python environment. \n",
            "\u001b[1;31mCommand: 'conda install -p c:\\Machine Learning Project\\venv ipykernel --update-deps --force-reinstall'"
          ]
        }
      ],
      "source": [
        "plt.figure(figsize=(8,8))\n",
        "plt.subplot(1,2,1)\n",
        "plt.pie(data=df,x=df['gender'].value_counts(),labels=['Male','Female'])\n",
        "plt.subplot(1,2,2)\n",
        "sns.histplot(data=df,x=df['gender'],hue='gender')\n"
      ]
    },
    {
      "cell_type": "markdown",
      "metadata": {
        "id": "mS1NuggfGg3_"
      },
      "source": [
        "multivariate analysis"
      ]
    },
    {
      "cell_type": "code",
      "execution_count": null,
      "metadata": {
        "id": "vELJjIkeGGj4"
      },
      "outputs": [
        {
          "ename": "",
          "evalue": "",
          "output_type": "error",
          "traceback": [
            "\u001b[1;31mRunning cells with 'c:\\Machine Learning Project\\venv\\python.exe' requires the ipykernel package.\n",
            "\u001b[1;31mRun the following command to install 'ipykernel' into the Python environment. \n",
            "\u001b[1;31mCommand: 'conda install -p c:\\Machine Learning Project\\venv ipykernel --update-deps --force-reinstall'"
          ]
        }
      ],
      "source": [
        "plt.rcParams['figure.figsize'] = (30, 15)\n",
        "\n",
        "plt.subplot(1, 5, 1)\n",
        "size = df['gender'].value_counts()\n",
        "labels = 'Female', 'Male'\n",
        "color = ['red','green']\n",
        "\n",
        "\n",
        "plt.pie(size, colors = color, labels = labels,autopct = '.%2f%%')\n",
        "plt.title('Gender', fontsize = 20)\n",
        "plt.axis('off')\n",
        "\n",
        "\n",
        "\n",
        "plt.subplot(1, 5, 2)\n",
        "size = df['race/ethnicity'].value_counts()\n",
        "labels = 'Group C', 'Group D','Group B','Group E','Group A'\n",
        "color = ['red', 'green', 'blue', 'cyan','orange']\n",
        "\n",
        "plt.pie(size, colors = color,labels = labels,autopct = '.%2f%%')\n",
        "plt.title('Race/Ethnicity', fontsize = 20)\n",
        "plt.axis('off')\n",
        "\n",
        "\n",
        "\n",
        "plt.subplot(1, 5, 3)\n",
        "size = df['lunch'].value_counts()\n",
        "labels = 'Standard', 'Free'\n",
        "color = ['red','green']\n",
        "\n",
        "plt.pie(size, colors = color,labels = labels,autopct = '.%2f%%')\n",
        "plt.title('Lunch', fontsize = 20)\n",
        "plt.axis('off')\n",
        "\n",
        "\n",
        "plt.subplot(1, 5, 4)\n",
        "size = df['test preparation course'].value_counts()\n",
        "labels = 'None', 'Completed'\n",
        "color = ['red','green']\n",
        "\n",
        "plt.pie(size, colors = color,labels = labels,autopct = '.%2f%%')\n",
        "plt.title('Test Course', fontsize = 20)\n",
        "plt.axis('off')\n",
        "\n",
        "\n",
        "plt.subplot(1, 5, 5)\n",
        "size = df['parental level of education'].value_counts()\n",
        "labels = 'Some College', \"Associate's Degree\",'High School','Some High School',\"Bachelor's Degree\",\"Master's Degree\"\n",
        "color = ['red', 'green', 'blue', 'cyan','orange','grey']\n",
        "\n",
        "plt.pie(size, colors = color,labels = labels,autopct = '.%2f%%')\n",
        "plt.title('Parental Education', fontsize = 20)\n",
        "plt.axis('off')\n",
        "\n",
        "\n",
        "plt.tight_layout()\n",
        "plt.grid()\n",
        "\n",
        "plt.show()"
      ]
    },
    {
      "cell_type": "markdown",
      "metadata": {
        "id": "BU4T592FIHCI"
      },
      "source": [
        "4.4.7 MUTIVARIATE ANALYSIS USING PAIRPLOT\n"
      ]
    },
    {
      "cell_type": "code",
      "execution_count": null,
      "metadata": {
        "id": "tYUWBuAnIPZL"
      },
      "outputs": [
        {
          "ename": "",
          "evalue": "",
          "output_type": "error",
          "traceback": [
            "\u001b[1;31mRunning cells with 'c:\\Machine Learning Project\\venv\\python.exe' requires the ipykernel package.\n",
            "\u001b[1;31mRun the following command to install 'ipykernel' into the Python environment. \n",
            "\u001b[1;31mCommand: 'conda install -p c:\\Machine Learning Project\\venv ipykernel --update-deps --force-reinstall'"
          ]
        }
      ],
      "source": [
        "sns.pairplot(df,hue = 'gender')\n",
        "plt.show()"
      ]
    },
    {
      "cell_type": "markdown",
      "metadata": {
        "id": "N7tepV1SJNr8"
      },
      "source": [
        "5. Conclusions\n",
        "Student's Performance is related with lunch, race, parental level education\n",
        "Females lead in pass percentage and also are top-scorers\n",
        "Student's Performance is not much related with test preparation course\n",
        "Finishing preparation course is benefitial."
      ]
    }
  ],
  "metadata": {
    "colab": {
      "private_outputs": true,
      "provenance": []
    },
    "kernelspec": {
      "display_name": "Python 3",
      "name": "python3"
    },
    "language_info": {
      "codemirror_mode": {
        "name": "ipython",
        "version": 3
      },
      "file_extension": ".py",
      "mimetype": "text/x-python",
      "name": "python",
      "nbconvert_exporter": "python",
      "pygments_lexer": "ipython3",
      "version": "3.8.0"
    }
  },
  "nbformat": 4,
  "nbformat_minor": 0
}
